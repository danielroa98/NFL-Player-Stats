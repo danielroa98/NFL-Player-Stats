{
 "cells": [
  {
   "cell_type": "code",
   "execution_count": 1,
   "metadata": {},
   "outputs": [],
   "source": [
    "import pandas as pd\n",
    "import seaborn as sns\n",
    "from matplotlib.colors import ListedColormap"
   ]
  },
  {
   "attachments": {},
   "cell_type": "markdown",
   "metadata": {},
   "source": [
    "## Testing with _Rushing_"
   ]
  },
  {
   "cell_type": "code",
   "execution_count": 2,
   "metadata": {},
   "outputs": [],
   "source": [
    "def data_scrape_rush(year: int):\n",
    "    # Define the URL that's going to be used to search for the data.\n",
    "    url = \"https://www.pro-football-reference.com/years/\" + str(year)+\"/rushing.htm\"\n",
    "    # Set the reading for the table found in the site established before.\n",
    "    html = pd.read_html(url, header=1)\n",
    "    rushing_df = html[0]\n",
    "    clean_data = rushing_df.drop(rushing_df[rushing_df.Age == 'Age'].index)\n",
    "    clean_data = clean_data.fillna(0)\n",
    "    rushing_players = clean_data.drop(['Rk'], axis=1)\n",
    "    rushing_players[[\"Age\", \"G\", \"GS\", \"Att\", \"Yds\", \"TD\", \"1D\", \"Lng\", \"Y/A\", \"Y/G\", \"Fmb\"]] = rushing_players[[\n",
    "        \"Age\", \"G\", \"GS\", \"Att\", \"Yds\", \"TD\", \"1D\", \"Lng\", \"Y/A\", \"Y/G\", \"Fmb\"]].apply(pd.to_numeric)\n",
    "\n",
    "    rushing_players.reset_index(drop=True, inplace=True)\n",
    "\n",
    "    rushing_players.loc[rushing_players['Pos'] == 0, ['Pos']] = \"No Pos\"\n",
    "\n",
    "    rushing_players[\"Player\"] = rushing_players[\"Player\"].map(\n",
    "        lambda x: x.rstrip('*+'))\n",
    "\n",
    "    rushing_players.sort_values(by=\"Yds\", inplace=True, ascending=False)\n",
    "    rushing_players.reset_index(drop=True, inplace=True)\n",
    "\n",
    "    return rushing_players\n"
   ]
  },
  {
   "cell_type": "code",
   "execution_count": 3,
   "metadata": {},
   "outputs": [
    {
     "data": {
      "text/html": [
       "<div>\n",
       "<style scoped>\n",
       "    .dataframe tbody tr th:only-of-type {\n",
       "        vertical-align: middle;\n",
       "    }\n",
       "\n",
       "    .dataframe tbody tr th {\n",
       "        vertical-align: top;\n",
       "    }\n",
       "\n",
       "    .dataframe thead th {\n",
       "        text-align: right;\n",
       "    }\n",
       "</style>\n",
       "<table border=\"1\" class=\"dataframe\">\n",
       "  <thead>\n",
       "    <tr style=\"text-align: right;\">\n",
       "      <th></th>\n",
       "      <th>Player</th>\n",
       "      <th>Tm</th>\n",
       "      <th>Age</th>\n",
       "      <th>Pos</th>\n",
       "      <th>G</th>\n",
       "      <th>GS</th>\n",
       "      <th>Att</th>\n",
       "      <th>Yds</th>\n",
       "      <th>TD</th>\n",
       "      <th>1D</th>\n",
       "      <th>Lng</th>\n",
       "      <th>Y/A</th>\n",
       "      <th>Y/G</th>\n",
       "      <th>Fmb</th>\n",
       "    </tr>\n",
       "  </thead>\n",
       "  <tbody>\n",
       "    <tr>\n",
       "      <th>0</th>\n",
       "      <td>Josh Jacobs</td>\n",
       "      <td>LVR</td>\n",
       "      <td>24</td>\n",
       "      <td>RB</td>\n",
       "      <td>17</td>\n",
       "      <td>17</td>\n",
       "      <td>340</td>\n",
       "      <td>1653</td>\n",
       "      <td>12</td>\n",
       "      <td>93</td>\n",
       "      <td>86</td>\n",
       "      <td>4.9</td>\n",
       "      <td>97.2</td>\n",
       "      <td>3</td>\n",
       "    </tr>\n",
       "    <tr>\n",
       "      <th>1</th>\n",
       "      <td>Derrick Henry</td>\n",
       "      <td>TEN</td>\n",
       "      <td>28</td>\n",
       "      <td>RB</td>\n",
       "      <td>16</td>\n",
       "      <td>16</td>\n",
       "      <td>349</td>\n",
       "      <td>1538</td>\n",
       "      <td>13</td>\n",
       "      <td>65</td>\n",
       "      <td>56</td>\n",
       "      <td>4.4</td>\n",
       "      <td>96.1</td>\n",
       "      <td>6</td>\n",
       "    </tr>\n",
       "    <tr>\n",
       "      <th>2</th>\n",
       "      <td>Nick Chubb</td>\n",
       "      <td>CLE</td>\n",
       "      <td>27</td>\n",
       "      <td>RB</td>\n",
       "      <td>17</td>\n",
       "      <td>17</td>\n",
       "      <td>302</td>\n",
       "      <td>1525</td>\n",
       "      <td>12</td>\n",
       "      <td>69</td>\n",
       "      <td>41</td>\n",
       "      <td>5.0</td>\n",
       "      <td>89.7</td>\n",
       "      <td>1</td>\n",
       "    </tr>\n",
       "    <tr>\n",
       "      <th>3</th>\n",
       "      <td>Saquon Barkley</td>\n",
       "      <td>NYG</td>\n",
       "      <td>25</td>\n",
       "      <td>RB</td>\n",
       "      <td>16</td>\n",
       "      <td>16</td>\n",
       "      <td>295</td>\n",
       "      <td>1312</td>\n",
       "      <td>10</td>\n",
       "      <td>62</td>\n",
       "      <td>68</td>\n",
       "      <td>4.4</td>\n",
       "      <td>82.0</td>\n",
       "      <td>1</td>\n",
       "    </tr>\n",
       "    <tr>\n",
       "      <th>4</th>\n",
       "      <td>Miles Sanders</td>\n",
       "      <td>PHI</td>\n",
       "      <td>25</td>\n",
       "      <td>RB</td>\n",
       "      <td>17</td>\n",
       "      <td>15</td>\n",
       "      <td>259</td>\n",
       "      <td>1269</td>\n",
       "      <td>11</td>\n",
       "      <td>62</td>\n",
       "      <td>40</td>\n",
       "      <td>4.9</td>\n",
       "      <td>74.6</td>\n",
       "      <td>2</td>\n",
       "    </tr>\n",
       "    <tr>\n",
       "      <th>...</th>\n",
       "      <td>...</td>\n",
       "      <td>...</td>\n",
       "      <td>...</td>\n",
       "      <td>...</td>\n",
       "      <td>...</td>\n",
       "      <td>...</td>\n",
       "      <td>...</td>\n",
       "      <td>...</td>\n",
       "      <td>...</td>\n",
       "      <td>...</td>\n",
       "      <td>...</td>\n",
       "      <td>...</td>\n",
       "      <td>...</td>\n",
       "      <td>...</td>\n",
       "    </tr>\n",
       "    <tr>\n",
       "      <th>361</th>\n",
       "      <td>Jahan Dotson</td>\n",
       "      <td>WAS</td>\n",
       "      <td>22</td>\n",
       "      <td>WR</td>\n",
       "      <td>12</td>\n",
       "      <td>10</td>\n",
       "      <td>2</td>\n",
       "      <td>-7</td>\n",
       "      <td>0</td>\n",
       "      <td>0</td>\n",
       "      <td>3</td>\n",
       "      <td>-3.5</td>\n",
       "      <td>-0.6</td>\n",
       "      <td>0</td>\n",
       "    </tr>\n",
       "    <tr>\n",
       "      <th>362</th>\n",
       "      <td>David Njoku</td>\n",
       "      <td>CLE</td>\n",
       "      <td>26</td>\n",
       "      <td>TE</td>\n",
       "      <td>14</td>\n",
       "      <td>14</td>\n",
       "      <td>2</td>\n",
       "      <td>-8</td>\n",
       "      <td>0</td>\n",
       "      <td>0</td>\n",
       "      <td>-2</td>\n",
       "      <td>-4.0</td>\n",
       "      <td>-0.6</td>\n",
       "      <td>1</td>\n",
       "    </tr>\n",
       "    <tr>\n",
       "      <th>363</th>\n",
       "      <td>Jakobi Meyers</td>\n",
       "      <td>NWE</td>\n",
       "      <td>26</td>\n",
       "      <td>WR</td>\n",
       "      <td>14</td>\n",
       "      <td>13</td>\n",
       "      <td>2</td>\n",
       "      <td>-11</td>\n",
       "      <td>0</td>\n",
       "      <td>2</td>\n",
       "      <td>7</td>\n",
       "      <td>-5.5</td>\n",
       "      <td>-0.8</td>\n",
       "      <td>2</td>\n",
       "    </tr>\n",
       "    <tr>\n",
       "      <th>364</th>\n",
       "      <td>DeAndre Carter</td>\n",
       "      <td>LAC</td>\n",
       "      <td>29</td>\n",
       "      <td>WR</td>\n",
       "      <td>17</td>\n",
       "      <td>7</td>\n",
       "      <td>2</td>\n",
       "      <td>-15</td>\n",
       "      <td>0</td>\n",
       "      <td>0</td>\n",
       "      <td>-5</td>\n",
       "      <td>-7.5</td>\n",
       "      <td>-0.9</td>\n",
       "      <td>3</td>\n",
       "    </tr>\n",
       "    <tr>\n",
       "      <th>365</th>\n",
       "      <td>Michael Dickson</td>\n",
       "      <td>SEA</td>\n",
       "      <td>26</td>\n",
       "      <td>P</td>\n",
       "      <td>17</td>\n",
       "      <td>0</td>\n",
       "      <td>2</td>\n",
       "      <td>-18</td>\n",
       "      <td>0</td>\n",
       "      <td>0</td>\n",
       "      <td>-8</td>\n",
       "      <td>-9.0</td>\n",
       "      <td>-1.1</td>\n",
       "      <td>1</td>\n",
       "    </tr>\n",
       "  </tbody>\n",
       "</table>\n",
       "<p>366 rows × 14 columns</p>\n",
       "</div>"
      ],
      "text/plain": [
       "              Player   Tm  Age Pos   G  GS  Att   Yds  TD  1D  Lng  Y/A   Y/G  \\\n",
       "0        Josh Jacobs  LVR   24  RB  17  17  340  1653  12  93   86  4.9  97.2   \n",
       "1     Derrick Henry   TEN   28  RB  16  16  349  1538  13  65   56  4.4  96.1   \n",
       "2         Nick Chubb  CLE   27  RB  17  17  302  1525  12  69   41  5.0  89.7   \n",
       "3     Saquon Barkley  NYG   25  RB  16  16  295  1312  10  62   68  4.4  82.0   \n",
       "4      Miles Sanders  PHI   25  RB  17  15  259  1269  11  62   40  4.9  74.6   \n",
       "..               ...  ...  ...  ..  ..  ..  ...   ...  ..  ..  ...  ...   ...   \n",
       "361     Jahan Dotson  WAS   22  WR  12  10    2    -7   0   0    3 -3.5  -0.6   \n",
       "362      David Njoku  CLE   26  TE  14  14    2    -8   0   0   -2 -4.0  -0.6   \n",
       "363    Jakobi Meyers  NWE   26  WR  14  13    2   -11   0   2    7 -5.5  -0.8   \n",
       "364   DeAndre Carter  LAC   29  WR  17   7    2   -15   0   0   -5 -7.5  -0.9   \n",
       "365  Michael Dickson  SEA   26   P  17   0    2   -18   0   0   -8 -9.0  -1.1   \n",
       "\n",
       "     Fmb  \n",
       "0      3  \n",
       "1      6  \n",
       "2      1  \n",
       "3      1  \n",
       "4      2  \n",
       "..   ...  \n",
       "361    0  \n",
       "362    1  \n",
       "363    2  \n",
       "364    3  \n",
       "365    1  \n",
       "\n",
       "[366 rows x 14 columns]"
      ]
     },
     "execution_count": 3,
     "metadata": {},
     "output_type": "execute_result"
    }
   ],
   "source": [
    "player_stats = data_scrape_rush(2022)\n",
    "player_stats"
   ]
  },
  {
   "attachments": {},
   "cell_type": "markdown",
   "metadata": {},
   "source": [
    "## One player's analysis"
   ]
  },
  {
   "cell_type": "code",
   "execution_count": 4,
   "metadata": {},
   "outputs": [],
   "source": [
    "def plotting_plyr_rush(player_df, player_name):\n",
    "    player_plt = pd.DataFrame(columns=player_df.columns)\n",
    "    temp_df_dat = player_df.loc[player_df[\"Player\"] == player_name]\n",
    "\n",
    "    player_plt = player_plt.append(temp_df_dat, ignore_index=True)\n",
    "\n",
    "    player_plt.drop(labels=[\"Player\", \"Tm\", \"Pos\",\"Age\"], inplace=True, axis=1)\n",
    "\n",
    "    return player_plt"
   ]
  },
  {
   "cell_type": "code",
   "execution_count": 5,
   "metadata": {},
   "outputs": [],
   "source": [
    "player_to_check=\"Christian McCaffrey\""
   ]
  },
  {
   "cell_type": "code",
   "execution_count": 6,
   "metadata": {},
   "outputs": [
    {
     "name": "stderr",
     "output_type": "stream",
     "text": [
      "/var/folders/6b/ddjkk4l908n5cwpnvhllb3fc0000gn/T/ipykernel_27954/2677964672.py:5: FutureWarning: The frame.append method is deprecated and will be removed from pandas in a future version. Use pandas.concat instead.\n",
      "  player_plt = player_plt.append(temp_df_dat, ignore_index=True)\n"
     ]
    },
    {
     "data": {
      "text/html": [
       "<div>\n",
       "<style scoped>\n",
       "    .dataframe tbody tr th:only-of-type {\n",
       "        vertical-align: middle;\n",
       "    }\n",
       "\n",
       "    .dataframe tbody tr th {\n",
       "        vertical-align: top;\n",
       "    }\n",
       "\n",
       "    .dataframe thead th {\n",
       "        text-align: right;\n",
       "    }\n",
       "</style>\n",
       "<table border=\"1\" class=\"dataframe\">\n",
       "  <thead>\n",
       "    <tr style=\"text-align: right;\">\n",
       "      <th></th>\n",
       "      <th>G</th>\n",
       "      <th>GS</th>\n",
       "      <th>Att</th>\n",
       "      <th>Yds</th>\n",
       "      <th>TD</th>\n",
       "      <th>1D</th>\n",
       "      <th>Lng</th>\n",
       "      <th>Y/A</th>\n",
       "      <th>Y/G</th>\n",
       "      <th>Fmb</th>\n",
       "    </tr>\n",
       "  </thead>\n",
       "  <tbody>\n",
       "    <tr>\n",
       "      <th>0</th>\n",
       "      <td>17</td>\n",
       "      <td>16</td>\n",
       "      <td>244</td>\n",
       "      <td>1139</td>\n",
       "      <td>8</td>\n",
       "      <td>59</td>\n",
       "      <td>49</td>\n",
       "      <td>4.7</td>\n",
       "      <td>67.0</td>\n",
       "      <td>1</td>\n",
       "    </tr>\n",
       "  </tbody>\n",
       "</table>\n",
       "</div>"
      ],
      "text/plain": [
       "    G  GS  Att   Yds TD  1D Lng  Y/A   Y/G Fmb\n",
       "0  17  16  244  1139  8  59  49  4.7  67.0   1"
      ]
     },
     "execution_count": 6,
     "metadata": {},
     "output_type": "execute_result"
    }
   ],
   "source": [
    "plot_data = plotting_plyr_rush(player_df=player_stats, player_name=player_to_check)\n",
    "plot_data"
   ]
  },
  {
   "attachments": {},
   "cell_type": "markdown",
   "metadata": {},
   "source": [
    "#### Plotting one player"
   ]
  },
  {
   "cell_type": "code",
   "execution_count": 7,
   "metadata": {},
   "outputs": [
    {
     "data": {
      "text/plain": [
       "[Text(0.5, 1.0, \"Christian McCaffrey's stats\")]"
      ]
     },
     "execution_count": 7,
     "metadata": {},
     "output_type": "execute_result"
    },
    {
     "data": {
      "image/png": "[encoded data removed]",
      "text/plain": [
       "<Figure size 640x480 with 1 Axes>"
      ]
     },
     "metadata": {},
     "output_type": "display_data"
    }
   ],
   "source": [
    "sns.barplot(data=plot_data).set(title=f\"{player_to_check}'s stats\")"
   ]
  },
  {
   "attachments": {},
   "cell_type": "markdown",
   "metadata": {},
   "source": [
    "## Two player's analysis"
   ]
  },
  {
   "cell_type": "code",
   "execution_count": 8,
   "metadata": {},
   "outputs": [],
   "source": [
    "def compare_players_df_rush(player_1_data, player_2_data, player_1_name, player_2_name):\n",
    "    player_comp_df = pd.DataFrame(columns=player_1_data.columns)\n",
    "    player_comp_df = player_comp_df.append(player_1_data, ignore_index=True)\n",
    "\n",
    "    player_comp_df.insert(loc=0, column=\"Player\", value=[\n",
    "                          [player_1_name, player_2_name]])\n",
    "\n",
    "    player_comp_df.at[0, \"Player\"] = player_1_name\n",
    "\n",
    "    player_comp_df = player_comp_df.append(player_2_data, ignore_index=True)\n",
    "\n",
    "    player_comp_df.at[1, \"Player\"] = player_2_name\n",
    "\n",
    "    return player_comp_df\n"
   ]
  },
  {
   "cell_type": "code",
   "execution_count": 9,
   "metadata": {},
   "outputs": [],
   "source": [
    "second_player = \"Deebo Samuel\"\n"
   ]
  },
  {
   "cell_type": "code",
   "execution_count": 10,
   "metadata": {},
   "outputs": [
    {
     "name": "stderr",
     "output_type": "stream",
     "text": [
      "/var/folders/6b/ddjkk4l908n5cwpnvhllb3fc0000gn/T/ipykernel_27954/2677964672.py:5: FutureWarning: The frame.append method is deprecated and will be removed from pandas in a future version. Use pandas.concat instead.\n",
      "  player_plt = player_plt.append(temp_df_dat, ignore_index=True)\n"
     ]
    },
    {
     "data": {
      "text/html": [
       "<div>\n",
       "<style scoped>\n",
       "    .dataframe tbody tr th:only-of-type {\n",
       "        vertical-align: middle;\n",
       "    }\n",
       "\n",
       "    .dataframe tbody tr th {\n",
       "        vertical-align: top;\n",
       "    }\n",
       "\n",
       "    .dataframe thead th {\n",
       "        text-align: right;\n",
       "    }\n",
       "</style>\n",
       "<table border=\"1\" class=\"dataframe\">\n",
       "  <thead>\n",
       "    <tr style=\"text-align: right;\">\n",
       "      <th></th>\n",
       "      <th>G</th>\n",
       "      <th>GS</th>\n",
       "      <th>Att</th>\n",
       "      <th>Yds</th>\n",
       "      <th>TD</th>\n",
       "      <th>1D</th>\n",
       "      <th>Lng</th>\n",
       "      <th>Y/A</th>\n",
       "      <th>Y/G</th>\n",
       "      <th>Fmb</th>\n",
       "    </tr>\n",
       "  </thead>\n",
       "  <tbody>\n",
       "    <tr>\n",
       "      <th>0</th>\n",
       "      <td>13</td>\n",
       "      <td>12</td>\n",
       "      <td>42</td>\n",
       "      <td>232</td>\n",
       "      <td>3</td>\n",
       "      <td>8</td>\n",
       "      <td>51</td>\n",
       "      <td>5.5</td>\n",
       "      <td>17.8</td>\n",
       "      <td>3</td>\n",
       "    </tr>\n",
       "  </tbody>\n",
       "</table>\n",
       "</div>"
      ],
      "text/plain": [
       "    G  GS Att  Yds TD 1D Lng  Y/A   Y/G Fmb\n",
       "0  13  12  42  232  3  8  51  5.5  17.8   3"
      ]
     },
     "execution_count": 10,
     "metadata": {},
     "output_type": "execute_result"
    }
   ],
   "source": [
    "player_2_cmpr = plotting_plyr_rush(player_df=player_stats, player_name=second_player)\n",
    "player_2_cmpr"
   ]
  },
  {
   "cell_type": "code",
   "execution_count": 11,
   "metadata": {},
   "outputs": [
    {
     "name": "stderr",
     "output_type": "stream",
     "text": [
      "/var/folders/6b/ddjkk4l908n5cwpnvhllb3fc0000gn/T/ipykernel_27954/1281590573.py:3: FutureWarning: The frame.append method is deprecated and will be removed from pandas in a future version. Use pandas.concat instead.\n",
      "  player_comp_df = player_comp_df.append(player_1_data, ignore_index=True)\n",
      "/var/folders/6b/ddjkk4l908n5cwpnvhllb3fc0000gn/T/ipykernel_27954/1281590573.py:10: FutureWarning: The frame.append method is deprecated and will be removed from pandas in a future version. Use pandas.concat instead.\n",
      "  player_comp_df = player_comp_df.append(player_2_data, ignore_index=True)\n"
     ]
    },
    {
     "data": {
      "text/html": [
       "<div>\n",
       "<style scoped>\n",
       "    .dataframe tbody tr th:only-of-type {\n",
       "        vertical-align: middle;\n",
       "    }\n",
       "\n",
       "    .dataframe tbody tr th {\n",
       "        vertical-align: top;\n",
       "    }\n",
       "\n",
       "    .dataframe thead th {\n",
       "        text-align: right;\n",
       "    }\n",
       "</style>\n",
       "<table border=\"1\" class=\"dataframe\">\n",
       "  <thead>\n",
       "    <tr style=\"text-align: right;\">\n",
       "      <th></th>\n",
       "      <th>Player</th>\n",
       "      <th>G</th>\n",
       "      <th>GS</th>\n",
       "      <th>Att</th>\n",
       "      <th>Yds</th>\n",
       "      <th>TD</th>\n",
       "      <th>1D</th>\n",
       "      <th>Lng</th>\n",
       "      <th>Y/A</th>\n",
       "      <th>Y/G</th>\n",
       "      <th>Fmb</th>\n",
       "    </tr>\n",
       "  </thead>\n",
       "  <tbody>\n",
       "    <tr>\n",
       "      <th>0</th>\n",
       "      <td>Christian McCaffrey</td>\n",
       "      <td>17</td>\n",
       "      <td>16</td>\n",
       "      <td>244</td>\n",
       "      <td>1139</td>\n",
       "      <td>8</td>\n",
       "      <td>59</td>\n",
       "      <td>49</td>\n",
       "      <td>4.7</td>\n",
       "      <td>67.0</td>\n",
       "      <td>1</td>\n",
       "    </tr>\n",
       "    <tr>\n",
       "      <th>1</th>\n",
       "      <td>Deebo Samuel</td>\n",
       "      <td>13</td>\n",
       "      <td>12</td>\n",
       "      <td>42</td>\n",
       "      <td>232</td>\n",
       "      <td>3</td>\n",
       "      <td>8</td>\n",
       "      <td>51</td>\n",
       "      <td>5.5</td>\n",
       "      <td>17.8</td>\n",
       "      <td>3</td>\n",
       "    </tr>\n",
       "  </tbody>\n",
       "</table>\n",
       "</div>"
      ],
      "text/plain": [
       "                Player   G  GS  Att   Yds TD  1D Lng  Y/A   Y/G Fmb\n",
       "0  Christian McCaffrey  17  16  244  1139  8  59  49  4.7  67.0   1\n",
       "1         Deebo Samuel  13  12   42   232  3   8  51  5.5  17.8   3"
      ]
     },
     "execution_count": 11,
     "metadata": {},
     "output_type": "execute_result"
    }
   ],
   "source": [
    "data_comp = compare_players_df_rush(player_1_data=plot_data, player_2_data=player_2_cmpr, player_1_name=player_to_check, player_2_name=second_player)\n",
    "data_comp"
   ]
  },
  {
   "attachments": {},
   "cell_type": "markdown",
   "metadata": {},
   "source": [
    "#### Plotting two players"
   ]
  },
  {
   "cell_type": "code",
   "execution_count": 12,
   "metadata": {},
   "outputs": [
    {
     "ename": "KeyError",
     "evalue": "\"['level_0', 'index'] not found in axis\"",
     "output_type": "error",
     "traceback": [
      "\u001b[0;31m---------------------------------------------------------------------------\u001b[0m",
      "\u001b[0;31mKeyError\u001b[0m                                  Traceback (most recent call last)",
      "Cell \u001b[0;32mIn[12], line 6\u001b[0m\n\u001b[1;32m      4\u001b[0m test_1 \u001b[39m=\u001b[39m data_comp\u001b[39m.\u001b[39mset_index(\u001b[39m\"\u001b[39m\u001b[39mPlayer\u001b[39m\u001b[39m\"\u001b[39m)\n\u001b[1;32m      5\u001b[0m test_t \u001b[39m=\u001b[39m test_1\u001b[39m.\u001b[39mT\n\u001b[0;32m----> 6\u001b[0m test_t\u001b[39m.\u001b[39;49mdrop([\u001b[39m\"\u001b[39;49m\u001b[39mlevel_0\u001b[39;49m\u001b[39m\"\u001b[39;49m,\u001b[39m\"\u001b[39;49m\u001b[39mindex\u001b[39;49m\u001b[39m\"\u001b[39;49m], axis\u001b[39m=\u001b[39;49m\u001b[39m0\u001b[39;49m, inplace\u001b[39m=\u001b[39;49m\u001b[39mTrue\u001b[39;49;00m)\n",
      "File \u001b[0;32m~/opt/anaconda3/envs/sports-analytics/lib/python3.9/site-packages/pandas/util/_decorators.py:331\u001b[0m, in \u001b[0;36mdeprecate_nonkeyword_arguments.<locals>.decorate.<locals>.wrapper\u001b[0;34m(*args, **kwargs)\u001b[0m\n\u001b[1;32m    325\u001b[0m \u001b[39mif\u001b[39;00m \u001b[39mlen\u001b[39m(args) \u001b[39m>\u001b[39m num_allow_args:\n\u001b[1;32m    326\u001b[0m     warnings\u001b[39m.\u001b[39mwarn(\n\u001b[1;32m    327\u001b[0m         msg\u001b[39m.\u001b[39mformat(arguments\u001b[39m=\u001b[39m_format_argument_list(allow_args)),\n\u001b[1;32m    328\u001b[0m         \u001b[39mFutureWarning\u001b[39;00m,\n\u001b[1;32m    329\u001b[0m         stacklevel\u001b[39m=\u001b[39mfind_stack_level(),\n\u001b[1;32m    330\u001b[0m     )\n\u001b[0;32m--> 331\u001b[0m \u001b[39mreturn\u001b[39;00m func(\u001b[39m*\u001b[39;49margs, \u001b[39m*\u001b[39;49m\u001b[39m*\u001b[39;49mkwargs)\n",
      "File \u001b[0;32m~/opt/anaconda3/envs/sports-analytics/lib/python3.9/site-packages/pandas/core/frame.py:5396\u001b[0m, in \u001b[0;36mDataFrame.drop\u001b[0;34m(self, labels, axis, index, columns, level, inplace, errors)\u001b[0m\n\u001b[1;32m   5248\u001b[0m \u001b[39m@deprecate_nonkeyword_arguments\u001b[39m(version\u001b[39m=\u001b[39m\u001b[39mNone\u001b[39;00m, allowed_args\u001b[39m=\u001b[39m[\u001b[39m\"\u001b[39m\u001b[39mself\u001b[39m\u001b[39m\"\u001b[39m, \u001b[39m\"\u001b[39m\u001b[39mlabels\u001b[39m\u001b[39m\"\u001b[39m])\n\u001b[1;32m   5249\u001b[0m \u001b[39mdef\u001b[39;00m \u001b[39mdrop\u001b[39m(  \u001b[39m# type: ignore[override]\u001b[39;00m\n\u001b[1;32m   5250\u001b[0m     \u001b[39mself\u001b[39m,\n\u001b[0;32m   (...)\u001b[0m\n\u001b[1;32m   5257\u001b[0m     errors: IgnoreRaise \u001b[39m=\u001b[39m \u001b[39m\"\u001b[39m\u001b[39mraise\u001b[39m\u001b[39m\"\u001b[39m,\n\u001b[1;32m   5258\u001b[0m ) \u001b[39m-\u001b[39m\u001b[39m>\u001b[39m DataFrame \u001b[39m|\u001b[39m \u001b[39mNone\u001b[39;00m:\n\u001b[1;32m   5259\u001b[0m     \u001b[39m\"\"\"\u001b[39;00m\n\u001b[1;32m   5260\u001b[0m \u001b[39m    Drop specified labels from rows or columns.\u001b[39;00m\n\u001b[1;32m   5261\u001b[0m \n\u001b[0;32m   (...)\u001b[0m\n\u001b[1;32m   5394\u001b[0m \u001b[39m            weight  1.0     0.8\u001b[39;00m\n\u001b[1;32m   5395\u001b[0m \u001b[39m    \"\"\"\u001b[39;00m\n\u001b[0;32m-> 5396\u001b[0m     \u001b[39mreturn\u001b[39;00m \u001b[39msuper\u001b[39;49m()\u001b[39m.\u001b[39;49mdrop(\n\u001b[1;32m   5397\u001b[0m         labels\u001b[39m=\u001b[39;49mlabels,\n\u001b[1;32m   5398\u001b[0m         axis\u001b[39m=\u001b[39;49maxis,\n\u001b[1;32m   5399\u001b[0m         index\u001b[39m=\u001b[39;49mindex,\n\u001b[1;32m   5400\u001b[0m         columns\u001b[39m=\u001b[39;49mcolumns,\n\u001b[1;32m   5401\u001b[0m         level\u001b[39m=\u001b[39;49mlevel,\n\u001b[1;32m   5402\u001b[0m         inplace\u001b[39m=\u001b[39;49minplace,\n\u001b[1;32m   5403\u001b[0m         errors\u001b[39m=\u001b[39;49merrors,\n\u001b[1;32m   5404\u001b[0m     )\n",
      "File \u001b[0;32m~/opt/anaconda3/envs/sports-analytics/lib/python3.9/site-packages/pandas/util/_decorators.py:331\u001b[0m, in \u001b[0;36mdeprecate_nonkeyword_arguments.<locals>.decorate.<locals>.wrapper\u001b[0;34m(*args, **kwargs)\u001b[0m\n\u001b[1;32m    325\u001b[0m \u001b[39mif\u001b[39;00m \u001b[39mlen\u001b[39m(args) \u001b[39m>\u001b[39m num_allow_args:\n\u001b[1;32m    326\u001b[0m     warnings\u001b[39m.\u001b[39mwarn(\n\u001b[1;32m    327\u001b[0m         msg\u001b[39m.\u001b[39mformat(arguments\u001b[39m=\u001b[39m_format_argument_list(allow_args)),\n\u001b[1;32m    328\u001b[0m         \u001b[39mFutureWarning\u001b[39;00m,\n\u001b[1;32m    329\u001b[0m         stacklevel\u001b[39m=\u001b[39mfind_stack_level(),\n\u001b[1;32m    330\u001b[0m     )\n\u001b[0;32m--> 331\u001b[0m \u001b[39mreturn\u001b[39;00m func(\u001b[39m*\u001b[39;49margs, \u001b[39m*\u001b[39;49m\u001b[39m*\u001b[39;49mkwargs)\n",
      "File \u001b[0;32m~/opt/anaconda3/envs/sports-analytics/lib/python3.9/site-packages/pandas/core/generic.py:4505\u001b[0m, in \u001b[0;36mNDFrame.drop\u001b[0;34m(self, labels, axis, index, columns, level, inplace, errors)\u001b[0m\n\u001b[1;32m   4503\u001b[0m \u001b[39mfor\u001b[39;00m axis, labels \u001b[39min\u001b[39;00m axes\u001b[39m.\u001b[39mitems():\n\u001b[1;32m   4504\u001b[0m     \u001b[39mif\u001b[39;00m labels \u001b[39mis\u001b[39;00m \u001b[39mnot\u001b[39;00m \u001b[39mNone\u001b[39;00m:\n\u001b[0;32m-> 4505\u001b[0m         obj \u001b[39m=\u001b[39m obj\u001b[39m.\u001b[39;49m_drop_axis(labels, axis, level\u001b[39m=\u001b[39;49mlevel, errors\u001b[39m=\u001b[39;49merrors)\n\u001b[1;32m   4507\u001b[0m \u001b[39mif\u001b[39;00m inplace:\n\u001b[1;32m   4508\u001b[0m     \u001b[39mself\u001b[39m\u001b[39m.\u001b[39m_update_inplace(obj)\n",
      "File \u001b[0;32m~/opt/anaconda3/envs/sports-analytics/lib/python3.9/site-packages/pandas/core/generic.py:4546\u001b[0m, in \u001b[0;36mNDFrame._drop_axis\u001b[0;34m(self, labels, axis, level, errors, only_slice)\u001b[0m\n\u001b[1;32m   4544\u001b[0m         new_axis \u001b[39m=\u001b[39m axis\u001b[39m.\u001b[39mdrop(labels, level\u001b[39m=\u001b[39mlevel, errors\u001b[39m=\u001b[39merrors)\n\u001b[1;32m   4545\u001b[0m     \u001b[39melse\u001b[39;00m:\n\u001b[0;32m-> 4546\u001b[0m         new_axis \u001b[39m=\u001b[39m axis\u001b[39m.\u001b[39;49mdrop(labels, errors\u001b[39m=\u001b[39;49merrors)\n\u001b[1;32m   4547\u001b[0m     indexer \u001b[39m=\u001b[39m axis\u001b[39m.\u001b[39mget_indexer(new_axis)\n\u001b[1;32m   4549\u001b[0m \u001b[39m# Case for non-unique axis\u001b[39;00m\n\u001b[1;32m   4550\u001b[0m \u001b[39melse\u001b[39;00m:\n",
      "File \u001b[0;32m~/opt/anaconda3/envs/sports-analytics/lib/python3.9/site-packages/pandas/core/indexes/base.py:6977\u001b[0m, in \u001b[0;36mIndex.drop\u001b[0;34m(self, labels, errors)\u001b[0m\n\u001b[1;32m   6975\u001b[0m \u001b[39mif\u001b[39;00m mask\u001b[39m.\u001b[39many():\n\u001b[1;32m   6976\u001b[0m     \u001b[39mif\u001b[39;00m errors \u001b[39m!=\u001b[39m \u001b[39m\"\u001b[39m\u001b[39mignore\u001b[39m\u001b[39m\"\u001b[39m:\n\u001b[0;32m-> 6977\u001b[0m         \u001b[39mraise\u001b[39;00m \u001b[39mKeyError\u001b[39;00m(\u001b[39mf\u001b[39m\u001b[39m\"\u001b[39m\u001b[39m{\u001b[39;00m\u001b[39mlist\u001b[39m(labels[mask])\u001b[39m}\u001b[39;00m\u001b[39m not found in axis\u001b[39m\u001b[39m\"\u001b[39m)\n\u001b[1;32m   6978\u001b[0m     indexer \u001b[39m=\u001b[39m indexer[\u001b[39m~\u001b[39mmask]\n\u001b[1;32m   6979\u001b[0m \u001b[39mreturn\u001b[39;00m \u001b[39mself\u001b[39m\u001b[39m.\u001b[39mdelete(indexer)\n",
      "\u001b[0;31mKeyError\u001b[0m: \"['level_0', 'index'] not found in axis\""
     ]
    }
   ],
   "source": [
    "# data_comp.set_index(\"Player\", inplace=True)\n",
    "# data_comp.reset_index(inplace=True)\n",
    "# test_gb = data_comp.groupby([\"Player\"])\n",
    "test_1 = data_comp.set_index(\"Player\")\n",
    "test_t = test_1.T\n",
    "test_t.drop([\"level_0\",\"index\"], axis=0, inplace=True)"
   ]
  },
  {
   "cell_type": "code",
   "execution_count": 13,
   "metadata": {},
   "outputs": [],
   "source": [
    "customColors = ListedColormap([\"#013369\", \"#D50A0A\"])\n"
   ]
  },
  {
   "cell_type": "code",
   "execution_count": 14,
   "metadata": {},
   "outputs": [
    {
     "data": {
      "text/plain": [
       "<AxesSubplot: title={'center': 'Player comparisons between Christian McCaffrey and Deebo Samuel'}, xlabel='Stats'>"
      ]
     },
     "execution_count": 14,
     "metadata": {},
     "output_type": "execute_result"
    },
    {
     "data": {
      "image/png": "[encoded data removed]",
      "text/plain": [
       "<Figure size 800x500 with 1 Axes>"
      ]
     },
     "metadata": {},
     "output_type": "display_data"
    }
   ],
   "source": [
    "test_t.plot(kind=\"bar\", title=f\"Player comparisons between {player_to_check} and {second_player}\",\n",
    "            xlabel=\"Stats\", subplots=False, figsize=(8, 5), legend=True, grid=True, colormap=customColors, )\n"
   ]
  }
 ],
 "metadata": {
  "kernelspec": {
   "display_name": "sports-analytics",
   "language": "python",
   "name": "python3"
  },
  "language_info": {
   "codemirror_mode": {
    "name": "ipython",
    "version": 3
   },
   "file_extension": ".py",
   "mimetype": "text/x-python",
   "name": "python",
   "nbconvert_exporter": "python",
   "pygments_lexer": "ipython3",
   "version": "3.9.15 (main, Nov 24 2022, 08:29:02) \n[Clang 14.0.6 ]"
  },
  "orig_nbformat": 4,
  "vscode": {
   "interpreter": {
    "hash": "d441fefb953c05cf201969c1704005466fee7791198d14afcff632638ebfba7a"
   }
  }
 },
 "nbformat": 4,
 "nbformat_minor": 2
}
